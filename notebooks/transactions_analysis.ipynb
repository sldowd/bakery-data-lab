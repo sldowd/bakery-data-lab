{
 "cells": [
  {
   "cell_type": "markdown",
   "id": "be0966a8",
   "metadata": {},
   "source": [
    "## 📊 Bakery Data Lab - Transactions Analysis Notebook"
   ]
  },
  {
   "cell_type": "markdown",
   "id": "8bc6c0c8",
   "metadata": {},
   "source": [
    "### 🧁 Setup"
   ]
  },
  {
   "cell_type": "code",
   "execution_count": 3,
   "id": "6d1c1704",
   "metadata": {},
   "outputs": [],
   "source": [
    "import pandas as pd\n",
    "import matplotlib.pyplot as plt\n",
    "import sqlite3"
   ]
  },
  {
   "cell_type": "markdown",
   "id": "9871a287",
   "metadata": {},
   "source": [
    "### 📦 Connect to your bakery-manager SQLite database"
   ]
  },
  {
   "cell_type": "code",
   "execution_count": 4,
   "id": "f858174b",
   "metadata": {},
   "outputs": [],
   "source": [
    "conn = sqlite3.connect(\"../../bakery-manager/bakery.db\")"
   ]
  },
  {
   "cell_type": "markdown",
   "id": "d547774a",
   "metadata": {},
   "source": [
    "### 🔍 Load transactions into a DataFrame"
   ]
  },
  {
   "cell_type": "code",
   "execution_count": 5,
   "id": "d5d31068",
   "metadata": {},
   "outputs": [
    {
     "data": {
      "text/html": [
       "<div>\n",
       "<style scoped>\n",
       "    .dataframe tbody tr th:only-of-type {\n",
       "        vertical-align: middle;\n",
       "    }\n",
       "\n",
       "    .dataframe tbody tr th {\n",
       "        vertical-align: top;\n",
       "    }\n",
       "\n",
       "    .dataframe thead th {\n",
       "        text-align: right;\n",
       "    }\n",
       "</style>\n",
       "<table border=\"1\" class=\"dataframe\">\n",
       "  <thead>\n",
       "    <tr style=\"text-align: right;\">\n",
       "      <th></th>\n",
       "      <th>id</th>\n",
       "      <th>date</th>\n",
       "      <th>transaction_type</th>\n",
       "      <th>amount</th>\n",
       "      <th>description</th>\n",
       "    </tr>\n",
       "  </thead>\n",
       "  <tbody>\n",
       "    <tr>\n",
       "      <th>0</th>\n",
       "      <td>1</td>\n",
       "      <td>2025-04-01</td>\n",
       "      <td>sale</td>\n",
       "      <td>125.50</td>\n",
       "      <td>Morning pastry sales</td>\n",
       "    </tr>\n",
       "    <tr>\n",
       "      <th>1</th>\n",
       "      <td>2</td>\n",
       "      <td>2025-04-01</td>\n",
       "      <td>expense</td>\n",
       "      <td>42.00</td>\n",
       "      <td>Purchased 50 lbs of flour</td>\n",
       "    </tr>\n",
       "    <tr>\n",
       "      <th>2</th>\n",
       "      <td>3</td>\n",
       "      <td>2025-04-02</td>\n",
       "      <td>sale</td>\n",
       "      <td>98.25</td>\n",
       "      <td>Coffee + croissant combo special</td>\n",
       "    </tr>\n",
       "    <tr>\n",
       "      <th>3</th>\n",
       "      <td>4</td>\n",
       "      <td>2025-04-02</td>\n",
       "      <td>expense</td>\n",
       "      <td>28.75</td>\n",
       "      <td>Eggs and butter from supplier</td>\n",
       "    </tr>\n",
       "    <tr>\n",
       "      <th>4</th>\n",
       "      <td>5</td>\n",
       "      <td>2025-04-03</td>\n",
       "      <td>sale</td>\n",
       "      <td>145.00</td>\n",
       "      <td>Custom catering order for local office</td>\n",
       "    </tr>\n",
       "  </tbody>\n",
       "</table>\n",
       "</div>"
      ],
      "text/plain": [
       "   id        date transaction_type  amount  \\\n",
       "0   1  2025-04-01             sale  125.50   \n",
       "1   2  2025-04-01          expense   42.00   \n",
       "2   3  2025-04-02             sale   98.25   \n",
       "3   4  2025-04-02          expense   28.75   \n",
       "4   5  2025-04-03             sale  145.00   \n",
       "\n",
       "                              description  \n",
       "0                    Morning pastry sales  \n",
       "1               Purchased 50 lbs of flour  \n",
       "2        Coffee + croissant combo special  \n",
       "3           Eggs and butter from supplier  \n",
       "4  Custom catering order for local office  "
      ]
     },
     "execution_count": 5,
     "metadata": {},
     "output_type": "execute_result"
    }
   ],
   "source": [
    "query = \"SELECT * FROM transactions\"\n",
    "df = pd.read_sql_query(query, conn)\n",
    "df.head()"
   ]
  },
  {
   "cell_type": "markdown",
   "id": "ccaf5e77",
   "metadata": {},
   "source": [
    "### 🧠 Explore the structure"
   ]
  },
  {
   "cell_type": "code",
   "execution_count": 6,
   "id": "311a6f54",
   "metadata": {},
   "outputs": [
    {
     "name": "stdout",
     "output_type": "stream",
     "text": [
      "<class 'pandas.core.frame.DataFrame'>\n",
      "RangeIndex: 10 entries, 0 to 9\n",
      "Data columns (total 5 columns):\n",
      " #   Column            Non-Null Count  Dtype  \n",
      "---  ------            --------------  -----  \n",
      " 0   id                10 non-null     int64  \n",
      " 1   date              10 non-null     object \n",
      " 2   transaction_type  10 non-null     object \n",
      " 3   amount            10 non-null     float64\n",
      " 4   description       10 non-null     object \n",
      "dtypes: float64(1), int64(1), object(3)\n",
      "memory usage: 532.0+ bytes\n",
      "None\n",
      "             id      amount\n",
      "count  10.00000   10.000000\n",
      "mean    5.50000   85.234000\n",
      "std     3.02765   49.158858\n",
      "min     1.00000   12.990000\n",
      "25%     3.25000   49.850000\n",
      "50%     5.50000   82.075000\n",
      "75%     7.75000  118.687500\n",
      "max    10.00000  162.300000\n"
     ]
    }
   ],
   "source": [
    "print(df.info())\n",
    "print(df.describe())"
   ]
  },
  {
   "cell_type": "markdown",
   "id": "ad1d7bfe",
   "metadata": {},
   "source": [
    "### 📈 Total revenue vs expenses"
   ]
  },
  {
   "cell_type": "code",
   "execution_count": 7,
   "id": "e1b39d8f",
   "metadata": {},
   "outputs": [
    {
     "data": {
      "image/png": "[encoded data removed]",
      "text/plain": [
       "<Figure size 640x480 with 1 Axes>"
      ]
     },
     "metadata": {},
     "output_type": "display_data"
    }
   ],
   "source": [
    "summary = df.groupby(\"transaction_type\")[\"amount\"].sum()\n",
    "summary.plot(kind=\"bar\", title=\"Total Revenue vs Expenses\", ylabel=\"Amount ($)\", xlabel=\"Type\", color=[\"green\", \"red\"])\n",
    "plt.tight_layout()\n",
    "plt.show()"
   ]
  },
  {
   "cell_type": "markdown",
   "id": "7514bf34",
   "metadata": {},
   "source": [
    "### ⏱️ Convert date column to datetime"
   ]
  },
  {
   "cell_type": "code",
   "execution_count": 8,
   "id": "55bdbd72",
   "metadata": {},
   "outputs": [],
   "source": [
    "df[\"date\"] = pd.to_datetime(df[\"date\"])\n",
    "df = df.sort_values(\"date\")"
   ]
  },
  {
   "cell_type": "markdown",
   "id": "bbdaab16",
   "metadata": {},
   "source": [
    "### 📅 Plot rolling 7-day revenue"
   ]
  },
  {
   "cell_type": "code",
   "execution_count": 9,
   "id": "6e01d5d3",
   "metadata": {},
   "outputs": [
    {
     "data": {
      "image/png": "[encoded data removed]",
      "text/plain": [
       "<Figure size 640x480 with 1 Axes>"
      ]
     },
     "metadata": {},
     "output_type": "display_data"
    }
   ],
   "source": [
    "sales_only = df[df[\"transaction_type\"] == \"sale\"]\n",
    "sales_only.set_index(\"date\", inplace=True)\n",
    "rolling = sales_only[\"amount\"].rolling(\"7D\").sum()\n",
    "\n",
    "rolling.plot(title=\"7-Day Rolling Sales\")\n",
    "plt.ylabel(\"$ Total\")\n",
    "plt.xlabel(\"Date\")\n",
    "plt.tight_layout()\n",
    "plt.show()"
   ]
  }
 ],
 "metadata": {
  "kernelspec": {
   "display_name": "base",
   "language": "python",
   "name": "python3"
  },
  "language_info": {
   "codemirror_mode": {
    "name": "ipython",
    "version": 3
   },
   "file_extension": ".py",
   "mimetype": "text/x-python",
   "name": "python",
   "nbconvert_exporter": "python",
   "pygments_lexer": "ipython3",
   "version": "3.11.5"
  }
 },
 "nbformat": 4,
 "nbformat_minor": 5
}
